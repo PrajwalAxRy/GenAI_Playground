{
 "cells": [
  {
   "cell_type": "markdown",
   "metadata": {
    "id": "CsVPnR8VbXE6"
   },
   "source": [
    "# Document Q&A with RAG using Chroma\n",
    "\n",
    "For this project we are using Gemini API to create a vector database, retrieve answers to questions from the database and generate final answers.\n",
    "\n",
    "Essentially RAG - uses Indexing, retrieval and Generation. Indexing is the ferrari, it happens ahead of time and lets us quickly loop up relevant infomration during query time. When query comes in, we retrieve revelant documents, combine them with predefined instruction along with use user's query, and then pass it on to LLM to generate a tailored answer. (This helps us to provide information to LLM that it hasn't seen before)\n",
    "\n",
    "For vector database, we will use chroma, which is open sourced. With Chroma we will store embeddings alongside any metadeta, embed documents and queries, and finally search the documents."
   ]
  },
  {
   "cell_type": "markdown",
   "metadata": {
    "id": "akuOzK4dJl3j"
   },
   "source": [
    "Installing ChromaDB and the Gemini API Python SDK."
   ]
  },
  {
   "cell_type": "code",
   "execution_count": 1,
   "metadata": {
    "execution": {
     "iopub.execute_input": "2025-05-21T19:00:27.250187Z",
     "iopub.status.busy": "2025-05-21T19:00:27.249755Z",
     "iopub.status.idle": "2025-05-21T19:01:16.908481Z",
     "shell.execute_reply": "2025-05-21T19:01:16.906575Z",
     "shell.execute_reply.started": "2025-05-21T19:00:27.250147Z"
    },
    "id": "JbXe7Oodc5dP",
    "trusted": true
   },
   "outputs": [],
   "source": [
    "!pip uninstall -qqy jupyterlab kfp  # Remove unused conflicting packages\n",
    "!pip install -qU \"google-genai==1.7.0\" \"chromadb==0.6.3\""
   ]
  },
  {
   "cell_type": "code",
   "execution_count": 2,
   "metadata": {
    "execution": {
     "iopub.execute_input": "2025-05-21T19:01:16.911608Z",
     "iopub.status.busy": "2025-05-21T19:01:16.911178Z",
     "iopub.status.idle": "2025-05-21T19:01:18.569142Z",
     "shell.execute_reply": "2025-05-21T19:01:18.567766Z",
     "shell.execute_reply.started": "2025-05-21T19:01:16.911567Z"
    },
    "id": "muuhsDmmKdHi",
    "trusted": true
   },
   "outputs": [],
   "source": [
    "from google import genai\n",
    "from google.genai import types\n",
    "\n",
    "from IPython.display import Markdown"
   ]
  },
  {
   "cell_type": "code",
   "execution_count": 3,
   "metadata": {
    "execution": {
     "iopub.execute_input": "2025-05-21T19:01:18.571618Z",
     "iopub.status.busy": "2025-05-21T19:01:18.570820Z",
     "iopub.status.idle": "2025-05-21T19:01:18.582220Z",
     "shell.execute_reply": "2025-05-21T19:01:18.580910Z",
     "shell.execute_reply.started": "2025-05-21T19:01:18.571557Z"
    },
    "trusted": true
   },
   "outputs": [
    {
     "data": {
      "text/plain": [
       "'1.7.0'"
      ]
     },
     "execution_count": 3,
     "metadata": {},
     "output_type": "execute_result"
    }
   ],
   "source": [
    "genai.__version__"
   ]
  },
  {
   "cell_type": "markdown",
   "metadata": {
    "id": "FQOGMejVu-6D"
   },
   "source": [
    "### Setting API key\n",
    "\n",
    "Using Kaggle Secret to set up Gemini API key"
   ]
  },
  {
   "cell_type": "code",
   "execution_count": 4,
   "metadata": {
    "execution": {
     "iopub.execute_input": "2025-05-21T19:01:18.584224Z",
     "iopub.status.busy": "2025-05-21T19:01:18.583814Z",
     "iopub.status.idle": "2025-05-21T19:01:18.728445Z",
     "shell.execute_reply": "2025-05-21T19:01:18.726914Z",
     "shell.execute_reply.started": "2025-05-21T19:01:18.584185Z"
    },
    "id": "ysayz8skEfBW",
    "trusted": true
   },
   "outputs": [],
   "source": [
    "from kaggle_secrets import UserSecretsClient\n",
    "\n",
    "GOOGLE_API_KEY = UserSecretsClient().get_secret(\"GOOGLE_API_KEY\")"
   ]
  },
  {
   "cell_type": "markdown",
   "metadata": {
    "id": "fegnGFpMS4AI"
   },
   "source": [
    "### Models that support Embeddings\n",
    "\n",
    "We will be using the [`embedContent`] API method to calculate embeddings. Models that supports it can be found using the [`models.list`] endpoint.\n",
    "\n",
    "We will use `text-embedding-004` which is the most recent available embedding model."
   ]
  },
  {
   "cell_type": "code",
   "execution_count": 5,
   "metadata": {
    "execution": {
     "iopub.execute_input": "2025-05-21T19:01:18.732381Z",
     "iopub.status.busy": "2025-05-21T19:01:18.731853Z",
     "iopub.status.idle": "2025-05-21T19:01:19.154696Z",
     "shell.execute_reply": "2025-05-21T19:01:19.153303Z",
     "shell.execute_reply.started": "2025-05-21T19:01:18.732329Z"
    },
    "id": "Km5d13_FS2Q_",
    "trusted": true
   },
   "outputs": [
    {
     "name": "stdout",
     "output_type": "stream",
     "text": [
      "models/embedding-001\n",
      "models/text-embedding-004\n",
      "models/gemini-embedding-exp-03-07\n",
      "models/gemini-embedding-exp\n"
     ]
    }
   ],
   "source": [
    "client = genai.Client(api_key=GOOGLE_API_KEY)\n",
    "\n",
    "for m in client.models.list():\n",
    "    if \"embedContent\" in m.supported_actions:\n",
    "        print(m.name)"
   ]
  },
  {
   "cell_type": "markdown",
   "metadata": {
    "id": "3XWKXoXwOGxS"
   },
   "source": [
    "### Sample Data\n",
    "\n",
    "Here is a small set of documents we will use to create an embedding database."
   ]
  },
  {
   "cell_type": "code",
   "execution_count": 6,
   "metadata": {
    "execution": {
     "iopub.execute_input": "2025-05-21T19:01:19.156889Z",
     "iopub.status.busy": "2025-05-21T19:01:19.156381Z",
     "iopub.status.idle": "2025-05-21T19:01:19.164241Z",
     "shell.execute_reply": "2025-05-21T19:01:19.162807Z",
     "shell.execute_reply.started": "2025-05-21T19:01:19.156838Z"
    },
    "id": "k8nsbhFJKmG-",
    "trusted": true
   },
   "outputs": [],
   "source": [
    "DOCUMENT1 = \"Operating the Climate Control System  Your Googlecar has a climate control system that allows you to adjust the temperature and airflow in the car. To operate the climate control system, use the buttons and knobs located on the center console.  Temperature: The temperature knob controls the temperature inside the car. Turn the knob clockwise to increase the temperature or counterclockwise to decrease the temperature. Airflow: The airflow knob controls the amount of airflow inside the car. Turn the knob clockwise to increase the airflow or counterclockwise to decrease the airflow. Fan speed: The fan speed knob controls the speed of the fan. Turn the knob clockwise to increase the fan speed or counterclockwise to decrease the fan speed. Mode: The mode button allows you to select the desired mode. The available modes are: Auto: The car will automatically adjust the temperature and airflow to maintain a comfortable level. Cool: The car will blow cool air into the car. Heat: The car will blow warm air into the car. Defrost: The car will blow warm air onto the windshield to defrost it.\"\n",
    "DOCUMENT2 = 'Your Googlecar has a large touchscreen display that provides access to a variety of features, including navigation, entertainment, and climate control. To use the touchscreen display, simply touch the desired icon.  For example, you can touch the \"Navigation\" icon to get directions to your destination or touch the \"Music\" icon to play your favorite songs.'\n",
    "DOCUMENT3 = \"Shifting Gears Your Googlecar has an automatic transmission. To shift gears, simply move the shift lever to the desired position.  Park: This position is used when you are parked. The wheels are locked and the car cannot move. Reverse: This position is used to back up. Neutral: This position is used when you are stopped at a light or in traffic. The car is not in gear and will not move unless you press the gas pedal. Drive: This position is used to drive forward. Low: This position is used for driving in snow or other slippery conditions.\"\n",
    "\n",
    "documents = [DOCUMENT1, DOCUMENT2, DOCUMENT3]"
   ]
  },
  {
   "cell_type": "markdown",
   "metadata": {
    "id": "yDzxArLeOexD"
   },
   "source": [
    "## Creating the embedding database with ChromaDB\n",
    "\n",
    "Example of a [custom function](https://docs.trychroma.com/guides/embeddings#custom-embedding-functions) to generate embeddings with the Gemini API. \n",
    "\n",
    "Here, I am implementing a retrieval system, so the `task_type` for generating the *document* embeddings is `retrieval_document`. Later, we will use `retrieval_query` for the *query* embeddings. \n",
    "\n",
    "Other [API reference](https://ai.google.dev/api/embeddings#v1beta.TaskType) for similar but different tasks."
   ]
  },
  {
   "cell_type": "code",
   "execution_count": 7,
   "metadata": {
    "execution": {
     "iopub.execute_input": "2025-05-21T19:01:19.166325Z",
     "iopub.status.busy": "2025-05-21T19:01:19.165908Z",
     "iopub.status.idle": "2025-05-21T19:01:20.146622Z",
     "shell.execute_reply": "2025-05-21T19:01:20.145542Z",
     "shell.execute_reply.started": "2025-05-21T19:01:19.166290Z"
    },
    "id": "mF7Uu1kCQsT0",
    "trusted": true
   },
   "outputs": [],
   "source": [
    "from chromadb import Documents, EmbeddingFunction, Embeddings\n",
    "from google.api_core import retry\n",
    "\n",
    "from google.genai import types\n",
    "\n",
    "\n",
    "# Define a helper to retry when per-minute quota is reached.\n",
    "is_retriable = lambda e: (isinstance(e, genai.errors.APIError) and e.code in {429, 503})\n",
    "\n",
    "# This will generate embeddings for both documents and queries.\n",
    "class GeminiEmbeddingFunction(EmbeddingFunction):\n",
    "    # Specify whether to generate embeddings for documents, or queries\n",
    "    document_mode = True\n",
    "\n",
    "    @retry.Retry(predicate=is_retriable)\n",
    "    def __call__(self, input: Documents) -> Embeddings:\n",
    "        if self.document_mode:\n",
    "            embedding_task = \"retrieval_document\"\n",
    "        else:\n",
    "            embedding_task = \"retrieval_query\"\n",
    "\n",
    "        response = client.models.embed_content(\n",
    "            model=\"models/text-embedding-004\",\n",
    "            contents=input,\n",
    "            config=types.EmbedContentConfig(\n",
    "                task_type=embedding_task,\n",
    "            ),\n",
    "        )\n",
    "        return [e.values for e in response.embeddings]"
   ]
  },
  {
   "cell_type": "markdown",
   "metadata": {
    "id": "HrDWLyopPNBf"
   },
   "source": [
    "Now we create a [Chroma database client](https://docs.trychroma.com/getting-started) that uses the `GeminiEmbeddingFunction` and populate the database with the documents you defined above."
   ]
  },
  {
   "cell_type": "code",
   "execution_count": 8,
   "metadata": {
    "execution": {
     "iopub.execute_input": "2025-05-21T19:01:20.148851Z",
     "iopub.status.busy": "2025-05-21T19:01:20.148122Z",
     "iopub.status.idle": "2025-05-21T19:01:20.668519Z",
     "shell.execute_reply": "2025-05-21T19:01:20.667022Z",
     "shell.execute_reply.started": "2025-05-21T19:01:20.148800Z"
    },
    "id": "OITXgxZlLoXU",
    "trusted": true
   },
   "outputs": [],
   "source": [
    "import chromadb\n",
    "\n",
    "DB_NAME = \"google_collection_db\"\n",
    "\n",
    "embed_fn = GeminiEmbeddingFunction()\n",
    "embed_fn.document_mode = True\n",
    "\n",
    "chroma_client = chromadb.Client()\n",
    "db = chroma_client.get_or_create_collection(name=DB_NAME, embedding_function=embed_fn)\n",
    "\n",
    "#Each document will have embedding based on it's numbering.\n",
    "db.add(documents=documents, ids=[str(i) for i in range(len(documents))])"
   ]
  },
  {
   "cell_type": "markdown",
   "metadata": {
    "id": "2QbwFgfXp-fL"
   },
   "source": [
    "Confirm that the data was inserted by looking at the database."
   ]
  },
  {
   "cell_type": "code",
   "execution_count": 9,
   "metadata": {
    "execution": {
     "iopub.execute_input": "2025-05-21T19:01:20.671014Z",
     "iopub.status.busy": "2025-05-21T19:01:20.670567Z",
     "iopub.status.idle": "2025-05-21T19:01:20.689478Z",
     "shell.execute_reply": "2025-05-21T19:01:20.687471Z",
     "shell.execute_reply.started": "2025-05-21T19:01:20.670950Z"
    },
    "id": "kQ9PHUL_l-hf",
    "trusted": true
   },
   "outputs": [
    {
     "data": {
      "text/plain": [
       "3"
      ]
     },
     "execution_count": 9,
     "metadata": {},
     "output_type": "execute_result"
    }
   ],
   "source": [
    "db.count()"
   ]
  },
  {
   "cell_type": "markdown",
   "metadata": {
    "id": "Tu5zRErgsQ8u"
   },
   "source": [
    "## Retrieval: Find relevant documents\n",
    "\n",
    "To search the Chroma database, call the `query` method. We will also switch to `retrieval_query` mode of embedding generation.\n",
    "\n",
    "`n_result` is the number of results to return from chromadb\n"
   ]
  },
  {
   "cell_type": "code",
   "execution_count": 10,
   "metadata": {
    "execution": {
     "iopub.execute_input": "2025-05-21T19:01:20.691736Z",
     "iopub.status.busy": "2025-05-21T19:01:20.691128Z",
     "iopub.status.idle": "2025-05-21T19:01:20.877128Z",
     "shell.execute_reply": "2025-05-21T19:01:20.875667Z",
     "shell.execute_reply.started": "2025-05-21T19:01:20.691690Z"
    },
    "id": "gQdJMbTSLtKE",
    "trusted": true
   },
   "outputs": [
    {
     "name": "stdout",
     "output_type": "stream",
     "text": [
      "['Your Googlecar has a large touchscreen display that provides access to a variety of features, including navigation, entertainment, and climate control. To use the touchscreen display, simply touch the desired icon.  For example, you can touch the \"Navigation\" icon to get directions to your destination or touch the \"Music\" icon to play your favorite songs.']\n"
     ]
    }
   ],
   "source": [
    "# Switch to query mode when generating embeddings.\n",
    "embed_fn.document_mode = False\n",
    "\n",
    "# Search the Chroma DB using the specified query.\n",
    "query = \"Can I play music on Google Car?\"\n",
    "\n",
    "result = db.query(query_texts=[query], n_results=1)\n",
    "\n",
    "print(result[\"documents\"][0]) ## This will be a list with n_result number of document."
   ]
  },
  {
   "cell_type": "markdown",
   "metadata": {
    "id": "s8PNRMpOQkm5"
   },
   "source": [
    "## From Generation to Augmented generation\n",
    "\n",
    "Now that we have found a relevant passage from the set of documents (the *retrieval* step), we will now assemble a generation prompt to have the Gemini API *generate* a final answer."
   ]
  },
  {
   "cell_type": "code",
   "execution_count": 11,
   "metadata": {
    "execution": {
     "iopub.execute_input": "2025-05-21T19:01:20.878959Z",
     "iopub.status.busy": "2025-05-21T19:01:20.878584Z",
     "iopub.status.idle": "2025-05-21T19:01:20.886957Z",
     "shell.execute_reply": "2025-05-21T19:01:20.885817Z",
     "shell.execute_reply.started": "2025-05-21T19:01:20.878926Z"
    },
    "id": "b6_Y-GOymaXu",
    "trusted": true
   },
   "outputs": [
    {
     "name": "stdout",
     "output_type": "stream",
     "text": [
      "You are a helpful and informative bot that answers questions using text from the reference passage included below. \n",
      "Be sure to respond in a complete sentence, being comprehensive, including all relevant background information. \n",
      "However, you are talking to a non-technical audience, so be sure to break down complicated concepts and \n",
      "strike a friendly and converstional tone. If the passage is irrelevant to the answer, you may ignore it.\n",
      "\n",
      "QUESTION: Can I play music on Google Car?\n",
      "PASSAGE: Your Googlecar has a large touchscreen display that provides access to a variety of features, including navigation, entertainment, and climate control. To use the touchscreen display, simply touch the desired icon.  For example, you can touch the \"Navigation\" icon to get directions to your destination or touch the \"Music\" icon to play your favorite songs.\n",
      "\n"
     ]
    }
   ],
   "source": [
    "query_oneline = query.replace(\"\\n\", \" \")\n",
    "\n",
    "# This prompt is where you can specify any guidance on tone, or what topics the model should stick to, or avoid.\n",
    "prompt = f\"\"\"You are a helpful and informative bot that answers questions using text from the reference passage included below. \n",
    "Be sure to respond in a complete sentence, being comprehensive, including all relevant background information. \n",
    "However, you are talking to a non-technical audience, so be sure to break down complicated concepts and \n",
    "strike a friendly and converstional tone. If the passage is irrelevant to the answer, you may ignore it.\n",
    "\n",
    "QUESTION: {query_oneline}\n",
    "\"\"\"\n",
    "\n",
    "# Add the retrieved documents to the prompt.\n",
    "for passage in result[\"documents\"][0]:\n",
    "    passage_oneline = passage.replace(\"\\n\", \" \")\n",
    "    prompt += f\"PASSAGE: {passage_oneline}\\n\"\n",
    "\n",
    "print(prompt)"
   ]
  },
  {
   "cell_type": "markdown",
   "metadata": {
    "id": "VRy6yXzcPxLB"
   },
   "source": [
    "Now use the `generate_content` method to to generate an answer to the question."
   ]
  },
  {
   "cell_type": "code",
   "execution_count": 12,
   "metadata": {
    "execution": {
     "iopub.execute_input": "2025-05-21T19:01:20.888755Z",
     "iopub.status.busy": "2025-05-21T19:01:20.888383Z",
     "iopub.status.idle": "2025-05-21T19:01:21.461379Z",
     "shell.execute_reply": "2025-05-21T19:01:21.459867Z",
     "shell.execute_reply.started": "2025-05-21T19:01:20.888706Z"
    },
    "id": "EwfyxFM6Giy9",
    "trusted": true
   },
   "outputs": [
    {
     "data": {
      "text/plain": [
       "'Yes, your Googlecar is equipped with a touchscreen display that gives you access to many features, and to play your favorite songs, you can simply touch the \"Music\" icon on the display.\\n'"
      ]
     },
     "execution_count": 12,
     "metadata": {},
     "output_type": "execute_result"
    }
   ],
   "source": [
    "answer = client.models.generate_content(\n",
    "    model=\"gemini-2.0-flash\",\n",
    "    contents=prompt)\n",
    "\n",
    "answer.text"
   ]
  }
 ],
 "metadata": {
  "colab": {
   "name": "day-2-document-q-a-with-rag.ipynb",
   "toc_visible": true
  },
  "kaggle": {
   "accelerator": "none",
   "dataSources": [],
   "dockerImageVersionId": 30786,
   "isGpuEnabled": false,
   "isInternetEnabled": true,
   "language": "python",
   "sourceType": "notebook"
  },
  "kernelspec": {
   "display_name": "llm_venv",
   "language": "python",
   "name": "python3"
  },
  "language_info": {
   "codemirror_mode": {
    "name": "ipython",
    "version": 3
   },
   "file_extension": ".py",
   "mimetype": "text/x-python",
   "name": "python",
   "nbconvert_exporter": "python",
   "pygments_lexer": "ipython3",
   "version": "3.12.3"
  }
 },
 "nbformat": 4,
 "nbformat_minor": 4
}
